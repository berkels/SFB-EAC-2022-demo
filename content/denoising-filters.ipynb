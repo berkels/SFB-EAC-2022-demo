{
  "cells": [
    {
      "cell_type": "markdown",
      "metadata": {},
      "source": [
        "## IPython notebook for various denoising filters"
      ]
    },
    {
      "cell_type": "markdown",
      "metadata": {},
      "source": [
        "### Import all modules and functions needed for this example."
      ]
    },
    {
      "cell_type": "code",
      "metadata": {},
      "source": [
        "import numpy as np\n",
        "import matplotlib.pyplot as plt\n",
        "from skimage.io import imread\n",
        "from skimage import img_as_float\n",
        "from skimage.filters import median\n",
        "from skimage.morphology import square\n",
        "from scipy.signal import correlate2d\n",
        "from skimage.util import random_noise\n"
      ],
      "outputs": [],
      "execution_count": null
    },
    {
      "cell_type": "markdown",
      "metadata": {},
      "source": [
        "### Implementation of some filter kernels."
      ]
    },
    {
      "cell_type": "code",
      "metadata": {},
      "source": [
        "def mean_filter_kernel(a):\n",
        "    kernel = np.ones((2 * a + 1, 2 * a + 1))\n",
        "    kernel = kernel / np.sum(kernel)\n",
        "    return kernel\n",
        "\n",
        "\n",
        "def gauss_filter_kernel(a, sigma):\n",
        "\n",
        "    # Straightforward loops to compute the kernel\n",
        "    # kernel = np.zeros((2*a+1, 2*a+1))\n",
        "    # for i in range(-a, a+1):\n",
        "    #     for j in range(-a, a+1):\n",
        "    #         kernel[i+a, j+a] = np.exp(- (i**2 + j**2) / (2 * sigma**2))\n",
        "\n",
        "    # Python way of computing the kernel\n",
        "    indX, indY = np.meshgrid(range(-a, a + 1), range(-a, a + 1))\n",
        "    kernel = np.exp(-(np.square(indX) + np.square(indY)) / (2 * sigma**2))\n",
        "    kernel = kernel / np.sum(kernel)\n",
        "    return kernel\n"
      ],
      "outputs": [],
      "execution_count": null
    },
    {
      "cell_type": "markdown",
      "metadata": {},
      "source": [
        "### Read and plot the input image."
      ]
    },
    {
      "cell_type": "code",
      "metadata": {},
      "source": [
        "true_input_image = img_as_float(imread(\"astronaut.png\", as_gray=True))\n",
        "\n",
        "plt.imshow(true_input_image, interpolation=\"nearest\", cmap=plt.cm.get_cmap(\"gray\"), vmin=0, vmax=1)\n",
        "plt.axis(\"off\")\n",
        "plt.title(\"Original image\")\n",
        "plt.show()"
      ],
      "outputs": [],
      "execution_count": null
    },
    {
      "cell_type": "markdown",
      "metadata": {},
      "source": [
        "### Add noise to the input image."
      ]
    },
    {
      "cell_type": "code",
      "metadata": {},
      "source": [
        "# Different noise models have very different effects\n",
        "input_image = random_noise(true_input_image, mode=\"gaussian\")\n",
        "# input_image = random_noise(true_input_image, mode=\"poisson\")\n",
        "# input_image = random_noise(true_input_image, mode=\"s&p\")\n",
        "\n",
        "plt.imshow(input_image, interpolation=\"nearest\", cmap=plt.cm.get_cmap(\"gray\"), vmin=0, vmax=1)\n",
        "plt.axis(\"off\")\n",
        "plt.title(\"Noisy input image\")\n",
        "plt.show()"
      ],
      "outputs": [],
      "execution_count": null
    },
    {
      "cell_type": "markdown",
      "metadata": {},
      "source": [
        "### Set the filter radius."
      ]
    },
    {
      "cell_type": "code",
      "metadata": {},
      "source": [
        "a = 2"
      ],
      "outputs": [],
      "execution_count": null
    },
    {
      "cell_type": "markdown",
      "metadata": {},
      "source": [
        "### Apply different filters to the noisy input image."
      ]
    },
    {
      "cell_type": "code",
      "metadata": {},
      "source": [
        "mean_filtered_image = correlate2d(input_image, mean_filter_kernel(a), mode=\"same\")\n",
        "gauss_filtered_image = correlate2d(input_image, gauss_filter_kernel(a, 1), mode=\"same\")\n",
        "median_filtered_image = median(input_image, footprint=square(2 * a + 1), mode=\"reflect\")\n",
        "\n",
        "# Plot all filtered images\n",
        "plt.subplot(1, 3, 1)\n",
        "plt.imshow(mean_filtered_image, interpolation=\"nearest\", cmap=plt.cm.get_cmap(\"gray\"), vmin=0, vmax=1)\n",
        "plt.axis(\"off\")\n",
        "plt.title(\"Mean filtered image\")\n",
        "\n",
        "plt.subplot(1, 3, 2)\n",
        "plt.imshow(gauss_filtered_image, interpolation=\"nearest\", cmap=plt.cm.get_cmap(\"gray\"), vmin=0, vmax=1)\n",
        "plt.axis(\"off\")\n",
        "plt.title(\"Gauss filtered image\")\n",
        "\n",
        "plt.subplot(1, 3, 3)\n",
        "plt.imshow(median_filtered_image, interpolation=\"nearest\", cmap=plt.cm.get_cmap(\"gray\"), vmin=0, vmax=1)\n",
        "plt.axis(\"off\")\n",
        "plt.title(\"Median filtered image\")\n",
        "plt.show()\n"
      ],
      "outputs": [],
      "execution_count": null
    }
  ],
  "metadata": {
    "anaconda-cloud": {},
    "kernelspec": {
      "display_name": "Python 3",
      "language": "python",
      "name": "python3"
    },
    "language_info": {
      "codemirror_mode": {
        "name": "ipython",
        "version": 3
      },
      "file_extension": ".py",
      "mimetype": "text/x-python",
      "name": "python",
      "nbconvert_exporter": "python",
      "pygments_lexer": "ipython3",
      "version": "3.6.1"
    }
  },
  "nbformat": 4,
  "nbformat_minor": 4
}