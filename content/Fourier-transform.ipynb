{
  "cells": [
    {
      "cell_type": "markdown",
      "metadata": {},
      "source": [
        "## IPython notebook for the Fourier transform and low/high pass filtering."
      ]
    },
    {
      "cell_type": "markdown",
      "metadata": {},
      "source": [
        "### Import all modules and functions needed for this example."
      ]
    },
    {
      "cell_type": "code",
      "metadata": {},
      "source": [
        "import numpy as np\n",
        "from skimage.io import imread, imsave\n",
        "from skimage import img_as_float\n",
        "from skimage.exposure import rescale_intensity\n",
        "import matplotlib.pyplot as plt\n"
      ],
      "outputs": [],
      "execution_count": null
    },
    {
      "cell_type": "markdown",
      "metadata": {},
      "source": [
        "### Implementation of the low/high pass transfer function and the frequency filtering with a transfer function."
      ]
    },
    {
      "cell_type": "code",
      "metadata": {},
      "source": [
        "def create_low_pass_kernel(shape, r):\n",
        "    m, n = shape\n",
        "    x, y = np.meshgrid(range(n), range(m))\n",
        "    frequencies = np.square(x - m / 2) + np.square(y - n / 2)\n",
        "    frequency_mask = frequencies < r**2\n",
        "    return frequency_mask\n",
        "\n",
        "\n",
        "def create_high_pass_kernel(shape, r1, r2):\n",
        "    m, n = shape\n",
        "    x, y = np.meshgrid(range(n), range(m))\n",
        "    frequencies = np.square(x - m / 2) + np.square(y - n / 2)\n",
        "    frequency_mask = np.logical_and(frequencies < r2**2, frequencies > r1**2)\n",
        "    return frequency_mask\n",
        "\n",
        "\n",
        "def filter_with_freq_kernel(input_image, kernel):\n",
        "    # Apply FFT and shift so that the lowest frequency is at the central pixel.\n",
        "    Ff = np.fft.fftshift(np.fft.fft2(input_image))\n",
        "    # Multiply the image frequencies with the kernel\n",
        "    Ff2 = np.multiply(kernel, Ff)\n",
        "    # Shift back, transform back and discard the imaginary component.\n",
        "    output_image = np.real(np.fft.ifft2(np.fft.ifftshift(Ff2)))\n",
        "    return output_image\n"
      ],
      "outputs": [],
      "execution_count": null
    },
    {
      "cell_type": "markdown",
      "metadata": {},
      "source": [
        "### Read and plot the input image."
      ]
    },
    {
      "cell_type": "code",
      "metadata": {},
      "source": [
        "input_image = img_as_float(imread(\"3_8_12-GaN-Area2_29_HAADF_1000.png\", as_gray=True))\n",
        "\n",
        "plt.imshow(input_image, interpolation=\"nearest\", cmap=plt.cm.get_cmap(\"gray\"), vmin=0, vmax=1)\n",
        "plt.axis(\"off\")\n",
        "plt.title(\"Original image\")\n",
        "plt.show()"
      ],
      "outputs": [],
      "execution_count": null
    },
    {
      "cell_type": "markdown",
      "metadata": {},
      "source": [
        "### Plot the power spectrum of the image."
      ]
    },
    {
      "cell_type": "code",
      "metadata": {},
      "source": [
        "# Compute the Fourier transform of the image\n",
        "Ff = np.fft.fftshift(np.fft.fft2(input_image))\n",
        "# The power spectrum is the pixel wise complex absolute value of the Fourier transform\n",
        "power_spectrum = np.abs(Ff)\n",
        "\n",
        "plt.subplot(1, 2, 1)\n",
        "plt.imshow(power_spectrum, interpolation=\"nearest\", cmap=plt.cm.get_cmap(\"gray\"))\n",
        "plt.axis(\"off\")\n",
        "plt.title(\"$T^{norm}(|FFT(f)|)$\")\n",
        "plt.subplot(1, 2, 2)\n",
        "plt.imshow(np.log2(1 + power_spectrum), interpolation=\"nearest\", cmap=plt.cm.get_cmap(\"gray\"))\n",
        "plt.axis(\"off\")\n",
        "plt.title(\"$T^{norm}(T^{log}(|FFT(f)|))$\")\n",
        "plt.show()"
      ],
      "outputs": [],
      "execution_count": null
    },
    {
      "cell_type": "markdown",
      "metadata": {},
      "source": [
        "### Parameters for the low and high frequency filters."
      ]
    },
    {
      "cell_type": "code",
      "metadata": {},
      "source": [
        "r = input_image.shape[0] // 10\n",
        "r2 = 2 * r"
      ],
      "outputs": [],
      "execution_count": null
    },
    {
      "cell_type": "markdown",
      "metadata": {},
      "source": [
        "### Create low and high frequency transfer functions."
      ]
    },
    {
      "cell_type": "code",
      "metadata": {},
      "source": [
        "# Low pass frequency transfer function\n",
        "low_pass_kernel_FT = create_low_pass_kernel(input_image.shape, r)\n",
        "# Corresponding space domain kernel\n",
        "low_pass_kernel = np.fft.ifftshift(np.fft.ifft2(low_pass_kernel_FT))\n",
        "\n",
        "plt.suptitle(\"Low pass kernel\", y=0.85)\n",
        "plt.subplot(1, 2, 1)\n",
        "plt.imshow(low_pass_kernel_FT, interpolation=\"nearest\", cmap=plt.cm.get_cmap(\"gray\"))\n",
        "plt.axis(\"off\")\n",
        "plt.title(\"$FFT(\\psi)$\")\n",
        "plt.subplot(1, 2, 2)\n",
        "plt.imshow(np.log2(1 + np.abs(low_pass_kernel)), interpolation=\"nearest\", cmap=plt.cm.get_cmap(\"gray\"))\n",
        "plt.axis(\"off\")\n",
        "plt.title(\"$T^{norm}(T^{log}(|\\psi|))$\")\n",
        "plt.show()"
      ],
      "outputs": [],
      "execution_count": null
    },
    {
      "cell_type": "code",
      "metadata": {},
      "source": [
        "# High pass frequency transfer function\n",
        "high_pass_kernel_FT = create_high_pass_kernel(input_image.shape, r, r2)\n",
        "# Corresponding space domain kernel\n",
        "high_pass_kernel = np.fft.ifftshift(np.fft.ifft2(high_pass_kernel_FT))\n",
        "\n",
        "plt.suptitle(\"High pass kernel\", y=0.85)\n",
        "plt.subplot(1, 2, 1)\n",
        "plt.imshow(high_pass_kernel_FT, interpolation=\"nearest\", cmap=plt.cm.get_cmap(\"gray\"))\n",
        "plt.axis(\"off\")\n",
        "plt.title(\"$FFT(\\psi)$\")\n",
        "plt.subplot(1, 2, 2)\n",
        "plt.imshow(np.log2(1 + np.abs(high_pass_kernel)), interpolation=\"nearest\", cmap=plt.cm.get_cmap(\"gray\"))\n",
        "plt.axis(\"off\")\n",
        "plt.title(\"$T^{norm}(T^{log}(|\\psi|))$\")\n",
        "plt.show()"
      ],
      "outputs": [],
      "execution_count": null
    },
    {
      "cell_type": "markdown",
      "metadata": {},
      "source": [
        "### Apply low and high pass filter."
      ]
    },
    {
      "cell_type": "code",
      "metadata": {},
      "source": [
        "low_pass_filtered = filter_with_freq_kernel(input_image, low_pass_kernel_FT)\n",
        "high_pass_filtered = filter_with_freq_kernel(input_image, high_pass_kernel_FT)\n",
        "\n",
        "plt.subplot(1, 2, 1)\n",
        "plt.imshow(low_pass_filtered, interpolation=\"nearest\", cmap=plt.cm.get_cmap(\"gray\"))\n",
        "plt.axis(\"off\")\n",
        "plt.title(\"$FFT(\\psi)$\")\n",
        "plt.subplot(1, 2, 2)\n",
        "plt.imshow(high_pass_filtered, interpolation=\"nearest\", cmap=plt.cm.get_cmap(\"gray\"))\n",
        "plt.axis(\"off\")\n",
        "plt.title(\"$T^{norm}(T^{log}(|\\psi|))$\")\n",
        "plt.show()\n"
      ],
      "outputs": [],
      "execution_count": null
    }
  ],
  "metadata": {
    "anaconda-cloud": {},
    "kernelspec": {
      "display_name": "Python 3",
      "language": "python",
      "name": "python3"
    },
    "language_info": {
      "codemirror_mode": {
        "name": "ipython",
        "version": 3
      },
      "file_extension": ".py",
      "mimetype": "text/x-python",
      "name": "python",
      "nbconvert_exporter": "python",
      "pygments_lexer": "ipython3",
      "version": "3.6.1"
    }
  },
  "nbformat": 4,
  "nbformat_minor": 4
}