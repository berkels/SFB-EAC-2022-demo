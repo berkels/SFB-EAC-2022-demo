{
  "cells": [
    {
      "cell_type": "markdown",
      "metadata": {},
      "source": [
        "## IPython notebook for the isodata algorithm"
      ]
    },
    {
      "cell_type": "markdown",
      "metadata": {},
      "source": [
        "### Import all modules and functions needed for this example."
      ]
    },
    {
      "cell_type": "code",
      "metadata": {},
      "source": [
        "import numpy as np\n",
        "from skimage.io import imread\n",
        "from skimage import img_as_float\n",
        "import matplotlib.pyplot as plt"
      ],
      "outputs": [],
      "execution_count": null
    },
    {
      "cell_type": "markdown",
      "metadata": {},
      "source": [
        "### Implementation of the isodata algorithm."
      ]
    },
    {
      "cell_type": "code",
      "metadata": {},
      "source": [
        "def isodata_threshold(image, num_bins):\n",
        "\n",
        "    # Note: numpy's histogram function is slightly different from the version in the lecture.\n",
        "    histo, edges = np.histogram(image, num_bins)\n",
        "\n",
        "    # The code below assumes that the image has values in [0,1],\n",
        "    # so we transform the image accordingly.\n",
        "    image = image - image.min()\n",
        "    image = image / image.max()\n",
        "\n",
        "    old_theta = -1\n",
        "    theta = 0.5 * (image.min() + image.max())\n",
        "\n",
        "    while(abs(old_theta - theta) > 0.0005):\n",
        "        old_theta = theta\n",
        "        floor_theta = int(np.floor((num_bins - 1) * theta)) + 1\n",
        "\n",
        "        numerator_A = 0\n",
        "        denominator_A = 0\n",
        "        for i in range(floor_theta):\n",
        "            numerator_A = numerator_A + i / (num_bins - 1) * histo[i]\n",
        "            denominator_A = denominator_A + histo[i]\n",
        "\n",
        "        numerator_B = 0\n",
        "        denominator_B = 0\n",
        "        for i in range(floor_theta, num_bins):\n",
        "            numerator_B = numerator_B + i / (num_bins - 1) * histo[i]\n",
        "            denominator_B = denominator_B + histo[i]\n",
        "\n",
        "        theta = 0.5 * (numerator_A/denominator_A + numerator_B/denominator_B)\n",
        "\n",
        "    print(f'Using threshold {theta:.5f}')\n",
        "    thresholdedImage = image > theta\n",
        "    return thresholdedImage, theta\n"
      ],
      "outputs": [],
      "execution_count": null
    },
    {
      "cell_type": "markdown",
      "metadata": {},
      "source": [
        "### Load an input image, determine the threshold with the isodata algorithm and display the results."
      ]
    },
    {
      "cell_type": "code",
      "metadata": {},
      "source": [
        "# Read the input image.\n",
        "image = img_as_float(imread('tafel.png', as_gray=True))\n",
        "# Apply the isodata algorithm\n",
        "imageThreshold, theta = isodata_threshold(image, 256)\n",
        "\n",
        "# Display input and result\n",
        "plt.subplot(1, 2, 1)\n",
        "plt.imshow(image, interpolation='nearest', cmap=plt.cm.get_cmap('gray'), vmin=0, vmax=1)\n",
        "plt.axis('off')\n",
        "plt.title('Input image f')\n",
        "plt.subplot(1, 2, 2)\n",
        "plt.imshow(imageThreshold, interpolation='nearest', cmap=plt.cm.get_cmap('gray'), vmin=0, vmax=1)\n",
        "plt.axis('off')\n",
        "plt.title('Isodata result')\n",
        "plt.show()"
      ],
      "outputs": [],
      "execution_count": null
    },
    {
      "cell_type": "markdown",
      "metadata": {},
      "source": [
        "### Plot the histogram of the input image along with the threshold theta."
      ]
    },
    {
      "cell_type": "code",
      "metadata": {},
      "source": [
        "histo, edges = np.histogram(image, 256)\n",
        "plt.title('Histogramm with threshold')\n",
        "plt.bar(range(histo.size), histo)\n",
        "# theta needs to be scaled for plot\n",
        "plt.plot(np.ones(histo.max())*theta*256, range(histo.max()), 'r-')\n",
        "plt.show()\n"
      ],
      "outputs": [],
      "execution_count": null
    }
  ],
  "metadata": {
    "anaconda-cloud": {},
    "kernelspec": {
      "display_name": "Python 3",
      "language": "python",
      "name": "python3"
    },
    "language_info": {
      "codemirror_mode": {
        "name": "ipython",
        "version": 3
      },
      "file_extension": ".py",
      "mimetype": "text/x-python",
      "name": "python",
      "nbconvert_exporter": "python",
      "pygments_lexer": "ipython3",
      "version": "3.6.1"
    }
  },
  "nbformat": 4,
  "nbformat_minor": 4
}