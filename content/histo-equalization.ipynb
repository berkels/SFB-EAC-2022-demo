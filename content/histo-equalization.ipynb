{
  "cells": [
    {
      "cell_type": "markdown",
      "metadata": {},
      "source": [
        "## IPython notebook for histogram equalization"
      ]
    },
    {
      "cell_type": "markdown",
      "metadata": {},
      "source": [
        "### Import all modules and functions needed for this example, also define some functions we'll need."
      ]
    },
    {
      "cell_type": "code",
      "metadata": {},
      "source": [
        "import numpy as np\n",
        "from skimage.io import imread\n",
        "from skimage import img_as_float\n",
        "from skimage.exposure import rescale_intensity\n",
        "import matplotlib.pyplot as plt\n",
        "import matplotlib.ticker as ticker\n",
        "\n",
        "\n",
        "def bin_histogram(image, num_bins, min_val=None, max_val=None):\n",
        "    if min_val is None:\n",
        "        min_val = image.min()\n",
        "    if max_val is None:\n",
        "        max_val = image.max()\n",
        "\n",
        "    # For each pixel, compute the index of the bin the corresponding gray belongs to.\n",
        "    histo_ind = (np.floor(\n",
        "        (image.ravel() - min_val) * (num_bins - 1) / (max_val - min_val))).astype(int)\n",
        "\n",
        "    # Straight forward implementation to compute the histogram from the indices with a for loop.\n",
        "    # num_pix = image.size\n",
        "    # histo = np.zeros(num_bins, dtype=int)\n",
        "    # for i in range(num_pix):\n",
        "    #     histo[histo_ind[i]] = histo[histo_ind[i]] + 1\n",
        "\n",
        "    # Fast implementation avoiding the for loop using numpy\n",
        "    histo = np.bincount(histo_ind)\n",
        "    return histo\n",
        "\n",
        "\n",
        "def equalize_histo(image, num_bins):\n",
        "    m, n = image.shape\n",
        "    min_val = image.min()\n",
        "    max_val = image.max()\n",
        "    num_pixels = m*n\n",
        "    H_f = bin_histogram(image, num_bins)\n",
        "    G_f = np.cumsum(H_f)\n",
        "\n",
        "    histo_ind = (np.floor((image[:, :] - min_val) *\n",
        "                          (num_bins - 1) / (max_val - min_val))).astype(int)\n",
        "    image = (max_val - min_val) * G_f[histo_ind[:, :]] / num_pixels + min_val\n",
        "    return image\n",
        "\n",
        "\n",
        "def plot_histogram(H_f, show_cdf_yticks=True):\n",
        "    plt.bar(range(H_f.size), H_f, color='C0')\n",
        "    ax1 = plt.gca()\n",
        "    if show_cdf_yticks:\n",
        "        ax1.tick_params('y', colors='C0')\n",
        "    ax1.xaxis.grid(color='gray')\n",
        "    ax1.yaxis.grid(color='gray')\n",
        "    ax2 = plt.twinx()\n",
        "    ax2.plot(np.cumsum(H_f), color='C1')\n",
        "    if show_cdf_yticks:\n",
        "        ax2.tick_params('y', colors='C1')\n",
        "    else:\n",
        "        ax2.yaxis.set_major_locator(ticker.NullLocator())\n",
        "    ax2.set_xlim([0, H_f.size-1])\n",
        "    ax2.set_ylim([0, None])\n"
      ],
      "outputs": [],
      "execution_count": null
    },
    {
      "cell_type": "markdown",
      "metadata": {},
      "source": [
        "### Load an input image, plot it and its histogram."
      ]
    },
    {
      "cell_type": "code",
      "metadata": {},
      "source": [
        "# Read the input image.\n",
        "image = img_as_float(imread('astronaut.png', as_gray=True))\n",
        "\n",
        "# Plot the input image\n",
        "plt.subplot(1, 2, 1)\n",
        "plt.imshow(image, interpolation='nearest', cmap=plt.cm.get_cmap('gray'), vmin=0, vmax=1)\n",
        "plt.title('Input image')\n",
        "plt.axis('off')\n",
        "\n",
        "# Plot the histogram of the input image\n",
        "H_f = bin_histogram(image, 256, 0, 1)\n",
        "plt.subplot(1, 2, 2)\n",
        "plot_histogram(H_f)\n",
        "plt.title('$H_f$ and $G_f$ of input')\n",
        "plt.show()"
      ],
      "outputs": [],
      "execution_count": null
    },
    {
      "cell_type": "markdown",
      "metadata": {},
      "source": [
        "### Equalize the histogram of the input image, plot the equalized image and its histogram."
      ]
    },
    {
      "cell_type": "code",
      "metadata": {},
      "source": [
        "# Equalize the input image\n",
        "equalized_image = equalize_histo(rescale_intensity(image), 255)\n",
        "\n",
        "# Plot the equalized image\n",
        "plt.subplot(1, 2, 1)\n",
        "plt.imshow(equalized_image, interpolation='nearest', cmap=plt.cm.get_cmap('gray'), vmin=0, vmax=1)\n",
        "plt.title('equalized image')\n",
        "plt.axis('off')\n",
        "\n",
        "# Plot the histogram of the equalized image\n",
        "H_f = bin_histogram(equalized_image, 256, 0, 1)\n",
        "plt.subplot(1, 2, 2)\n",
        "plot_histogram(H_f)\n",
        "plt.title('$H_f$ and $G_f$ of equalized image')\n",
        "plt.show()\n"
      ],
      "outputs": [],
      "execution_count": null
    }
  ],
  "metadata": {
    "anaconda-cloud": {},
    "kernelspec": {
      "display_name": "Python 3",
      "language": "python",
      "name": "python3"
    },
    "language_info": {
      "codemirror_mode": {
        "name": "ipython",
        "version": 3
      },
      "file_extension": ".py",
      "mimetype": "text/x-python",
      "name": "python",
      "nbconvert_exporter": "python",
      "pygments_lexer": "ipython3",
      "version": "3.6.1"
    }
  },
  "nbformat": 4,
  "nbformat_minor": 4
}