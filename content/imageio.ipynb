{
  "cells": [
    {
      "cell_type": "markdown",
      "metadata": {},
      "source": [
        "## IPython notebook for basic image reading, writing and simple intensity transformations"
      ]
    },
    {
      "cell_type": "markdown",
      "metadata": {},
      "source": [
        "### Import all modules and functions needed for this example."
      ]
    },
    {
      "cell_type": "code",
      "metadata": {},
      "source": [
        "from skimage.io import imread, imsave\n",
        "from skimage import img_as_float\n",
        "from skimage.exposure import rescale_intensity\n",
        "import numpy as np\n",
        "import numpy.fft as fft\n",
        "import matplotlib.pyplot as plt"
      ],
      "outputs": [],
      "execution_count": null
    },
    {
      "cell_type": "markdown",
      "metadata": {},
      "source": [
        "### Reading and displaying an image"
      ]
    },
    {
      "cell_type": "code",
      "metadata": {},
      "source": [
        "# Read an image from a file (as_gray ensures that the image is imported as grayscale).\n",
        "image = imread('astronaut.png', as_gray=True)\n",
        "# Images are usually stored as integer values. Here, we make sure that the values are floating point.\n",
        "# If the input is integer, the floating point output values are in [0,1]\n",
        "image = img_as_float(image)\n",
        "\n",
        "# Display the image.\n",
        "plt.imshow(image, interpolation='nearest', cmap=plt.cm.get_cmap('gray'), vmin=0, vmax=1)\n",
        "plt.axis('off')\n",
        "plt.title('Input image $f$')\n",
        "plt.show()"
      ],
      "outputs": [],
      "execution_count": null
    },
    {
      "cell_type": "markdown",
      "metadata": {},
      "source": [
        "### Gamma correction"
      ]
    },
    {
      "cell_type": "code",
      "metadata": {},
      "source": [
        "# Apply gamma correction with gamma=2\n",
        "imageGamma = np.square(image)\n",
        "plt.subplot(1, 2, 1)\n",
        "plt.imshow(imageGamma, interpolation='nearest', cmap=plt.cm.get_cmap('gray'), vmin=0, vmax=1)\n",
        "plt.axis('off')\n",
        "plt.title('$T_2(f)$')\n",
        "\n",
        "# Apply gamma correction with gamma=1/2\n",
        "imageGamma = np.power(image, .5)\n",
        "plt.subplot(1, 2, 2)\n",
        "plt.imshow(imageGamma, interpolation='nearest', cmap=plt.cm.get_cmap('gray'), vmin=0, vmax=1)\n",
        "plt.axis('off')\n",
        "plt.title('$T_{1/2}(f)$')\n",
        "plt.show()"
      ],
      "outputs": [],
      "execution_count": null
    },
    {
      "cell_type": "markdown",
      "metadata": {},
      "source": [
        "### Visualizing the power spectrum with the log transform."
      ]
    },
    {
      "cell_type": "code",
      "metadata": {},
      "source": [
        "# Compute the power spectrum of the image (after subtracting its mean)\n",
        "m = image.mean()\n",
        "absC = fft.fftshift(abs(fft.fft2(image-m)))\n",
        "\n",
        "plt.subplot(1, 2, 1)\n",
        "# Since we don't specify vmin and vmax, the lowest value will be displayed as black, the largest as gray.\n",
        "plt.imshow(absC, interpolation='nearest', cmap=plt.cm.get_cmap('gray'))\n",
        "plt.axis('off')\n",
        "plt.title('$T^{norm}(|FFT(f-mean(f))|)$')\n",
        "\n",
        "logAbsC = np.log2(1+absC)\n",
        "plt.subplot(1, 2, 2)\n",
        "plt.imshow(logAbsC, interpolation='nearest', cmap=plt.cm.get_cmap('gray'))\n",
        "plt.axis('off')\n",
        "plt.title('$T^{norm}(T^{log}(|FFT(f-mean(f))|))$')\n",
        "plt.show()"
      ],
      "outputs": [],
      "execution_count": null
    },
    {
      "cell_type": "markdown",
      "metadata": {},
      "source": [
        "### Writing an image file"
      ]
    },
    {
      "cell_type": "code",
      "metadata": {},
      "source": [
        "# Save the power spectrum as image file.\n",
        "# Note: Since the power spectrum has floating point values not limited to [0,1],\n",
        "# we first rescale the values to 8-bit, mapping the lowest to 0 and the largest to 255.\n",
        "imsave(\"logAbsC.png\", rescale_intensity(logAbsC, out_range='uint8'))"
      ],
      "outputs": [],
      "execution_count": null
    },
    {
      "cell_type": "markdown",
      "metadata": {},
      "source": [
        "### Thresholding"
      ]
    },
    {
      "cell_type": "code",
      "metadata": {},
      "source": [
        "# Threshold the image at 0.5.\n",
        "imageThreshold = image > 0.5\n",
        "plt.imshow(imageThreshold, interpolation='nearest', cmap=plt.cm.get_cmap('gray'))\n",
        "plt.axis('off')\n",
        "plt.title('$T^{threshold}_{1/2}(f)$')\n",
        "plt.show()\n"
      ],
      "outputs": [],
      "execution_count": null
    }
  ],
  "metadata": {
    "anaconda-cloud": {},
    "kernelspec": {
      "display_name": "Python 3",
      "language": "python",
      "name": "python3"
    },
    "language_info": {
      "codemirror_mode": {
        "name": "ipython",
        "version": 3
      },
      "file_extension": ".py",
      "mimetype": "text/x-python",
      "name": "python",
      "nbconvert_exporter": "python",
      "pygments_lexer": "ipython3",
      "version": "3.6.1"
    }
  },
  "nbformat": 4,
  "nbformat_minor": 4
}