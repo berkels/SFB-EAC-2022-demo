{
  "cells": [
    {
      "cell_type": "markdown",
      "metadata": {},
      "source": [
        "## IPython notebook for the bilateral filter."
      ]
    },
    {
      "cell_type": "markdown",
      "metadata": {},
      "source": [
        "### Import all modules and functions needed for this example."
      ]
    },
    {
      "cell_type": "code",
      "metadata": {},
      "source": [
        "from skimage.io import imread\n",
        "from skimage import img_as_float\n",
        "from skimage.util import random_noise\n",
        "import numpy as np\n",
        "import matplotlib.pyplot as plt\n",
        "from tqdm import tqdm\n"
      ],
      "outputs": [],
      "execution_count": null
    },
    {
      "cell_type": "markdown",
      "metadata": {},
      "source": [
        "### Implementation of the bilateral filter."
      ]
    },
    {
      "cell_type": "code",
      "metadata": {},
      "source": [
        "# Adapted from bfltGray by Douglas Lanman\n",
        "# http://www.mathworks.com/matlabcentral/fileexchange/12191-bilateral-filtering/content/Bilateral%20Filtering/bfilter2.m\n",
        "def bilateralFilter(inputImage, sigma_1, sigma_2, a):\n",
        "\n",
        "    m, n = inputImage.shape\n",
        "\n",
        "    # Compute the Gauss kernel for the spatial distance.\n",
        "    # No need to normalize, this is done when computing\n",
        "    # the kernel for the intensity distance.\n",
        "    indX, indY = np.meshgrid(range(-a, a + 1), range(-a, a + 1))\n",
        "    G_1 = np.exp(-(np.square(indX) + np.square(indY)) / (2 * sigma_1**2))\n",
        "\n",
        "    outputImage = np.zeros((m, n))\n",
        "    # tqdm gives us a progress bar, so we see how long the computation of the filter takes.\n",
        "    tqdm.monitor_interval = 0\n",
        "    for i in tqdm(range(m), unit=\"rows\"):\n",
        "        for j in range(n):\n",
        "            startX = max(0, i - a)\n",
        "            stopX = min(m, i + a + 1)\n",
        "            startY = max(1, j - a)\n",
        "            stopY = min(n, j + a + 1)\n",
        "            subImage = inputImage[startX:stopX, startY:stopY]\n",
        "\n",
        "            # Compute the Gauss kernel for the intensity distance.\n",
        "            G_2 = np.exp(-np.square(subImage - inputImage[i, j]) / (2 * sigma_2**2))\n",
        "\n",
        "            # Pointwise product of both kernels\n",
        "            G = np.multiply(G_2, G_1[startX - i + a : stopX - i + a, startY - j + a : stopY - j + a])\n",
        "            # Finally apply the local kernel and normalize.\n",
        "            outputImage[i, j] = np.dot(G.ravel(), subImage.ravel()) / np.sum(G)\n",
        "\n",
        "    return outputImage\n"
      ],
      "outputs": [],
      "execution_count": null
    },
    {
      "cell_type": "markdown",
      "metadata": {},
      "source": [
        "### Read and plot the input image."
      ]
    },
    {
      "cell_type": "code",
      "metadata": {},
      "source": [
        "true_input_image = img_as_float(imread(\"astronaut.png\", as_gray=True))\n",
        "\n",
        "plt.imshow(true_input_image, interpolation=\"nearest\", cmap=plt.cm.get_cmap(\"gray\"), vmin=0, vmax=1)\n",
        "plt.axis(\"off\")\n",
        "plt.title(\"Original image\")\n",
        "plt.show()"
      ],
      "outputs": [],
      "execution_count": null
    },
    {
      "cell_type": "markdown",
      "metadata": {},
      "source": [
        "### Add noise to the input image."
      ]
    },
    {
      "cell_type": "code",
      "metadata": {},
      "source": [
        "# Different noise models have very different effects\n",
        "# input_image = random_noise(true_input_image, mode=\"gaussian\")\n",
        "input_image = random_noise(true_input_image, mode=\"poisson\")\n",
        "# input_image = random_noise(true_input_image, mode=\"s&p\")\n",
        "\n",
        "plt.imshow(input_image, interpolation=\"nearest\", cmap=plt.cm.get_cmap(\"gray\"), vmin=0, vmax=1)\n",
        "plt.axis(\"off\")\n",
        "plt.title(\"Noisy input image\")\n",
        "plt.show()"
      ],
      "outputs": [],
      "execution_count": null
    },
    {
      "cell_type": "markdown",
      "metadata": {},
      "source": [
        "### Set the filter parameters."
      ]
    },
    {
      "cell_type": "code",
      "metadata": {},
      "source": [
        "a = 9\n",
        "sigma_1 = 2\n",
        "sigma_2 = 0.1"
      ],
      "outputs": [],
      "execution_count": null
    },
    {
      "cell_type": "markdown",
      "metadata": {},
      "source": [
        "### Apply the bilateral filter to the noisy input image."
      ]
    },
    {
      "cell_type": "code",
      "metadata": {},
      "source": [
        "filtered_image = bilateralFilter(input_image, sigma_1, sigma_2, a)\n",
        "\n",
        "plt.imshow(filtered_image, interpolation=\"nearest\", cmap=plt.cm.get_cmap(\"gray\"), vmin=0, vmax=1)\n",
        "plt.axis(\"off\")\n",
        "plt.title(\"Bilateral filter\")\n",
        "plt.show()\n"
      ],
      "outputs": [],
      "execution_count": null
    }
  ],
  "metadata": {
    "anaconda-cloud": {},
    "kernelspec": {
      "display_name": "Python 3",
      "language": "python",
      "name": "python3"
    },
    "language_info": {
      "codemirror_mode": {
        "name": "ipython",
        "version": 3
      },
      "file_extension": ".py",
      "mimetype": "text/x-python",
      "name": "python",
      "nbconvert_exporter": "python",
      "pygments_lexer": "ipython3",
      "version": "3.6.1"
    }
  },
  "nbformat": 4,
  "nbformat_minor": 4
}